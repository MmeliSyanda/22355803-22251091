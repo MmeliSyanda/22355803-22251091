{
 "cells": [
  {
   "cell_type": "code",
   "execution_count": 1,
   "id": "aea525c4-9bd8-4be5-90d1-648be3e6a2f6",
   "metadata": {},
   "outputs": [
    {
     "name": "stdout",
     "output_type": "stream",
     "text": [
      "{'DBN': 0, 'PMB': 89, 'RBY': 112, 'HMT': 212, 'VRT': 218, 'JHB': 324}\n"
     ]
    }
   ],
   "source": [
    "import heapq\n",
    "\n",
    "def dijkstra(graph, start):\n",
    "    # Initialize the distance to all vertices as infinity and distance to the start vertex as 0\n",
    "    distances = {vertex: float('infinity') for vertex in graph}\n",
    "    distances[start] = 0\n",
    "\n",
    "    # Priority queue to hold vertices to explore\n",
    "    priority_queue = [(0, start)]\n",
    "    \n",
    "    while priority_queue:\n",
    "        current_distance, current_vertex = heapq.heappop(priority_queue)\n",
    "\n",
    "        # Nodes can only be visited once; a higher distance means this node has been processed\n",
    "        if current_distance > distances[current_vertex]:\n",
    "            continue\n",
    "\n",
    "        # Explore neighbors\n",
    "        for neighbor, weight in graph[current_vertex].items():\n",
    "            distance = current_distance + weight\n",
    "\n",
    "            # If a shorter path to the neighbor is found\n",
    "            if distance < distances[neighbor]:\n",
    "                distances[neighbor] = distance\n",
    "                heapq.heappush(priority_queue, (distance, neighbor))\n",
    "\n",
    "    return distances\n",
    "\n",
    "# Example graph represented as an adjacency list\n",
    "graph = {\n",
    "    'DBN': {'PMB': 89, 'RBY': 112},\n",
    "    'PMB': {'DBN': 89, 'RBY': 70 ,'HMT': 209},\n",
    "    'RBY': {'PMB': 70, 'DBN': 112, 'HMT': 100,'VRT': 106},\n",
    "     'HMT': {'PMB': 209, 'RBY': 100, 'VRT': 41,'JHB': 210},\n",
    "    'VRT': {'HMT': 41,'RBY': 106, 'JHB': 106},\n",
    "     'JHB' :{'HMT':210,'VRT': 106}\n",
    "     \n",
    "}\n",
    "\n",
    "# Find shortest paths from vertex 'A'\n",
    "shortest_paths = dijkstra(graph, 'DBN')\n",
    "print(shortest_paths)\n"
   ]
  },
  {
   "cell_type": "code",
   "execution_count": null,
   "id": "f7b3d6a9-9c45-4115-abfa-ebc5be6fb0c5",
   "metadata": {},
   "outputs": [],
   "source": []
  }
 ],
 "metadata": {
  "kernelspec": {
   "display_name": "Python 3 (ipykernel)",
   "language": "python",
   "name": "python3"
  },
  "language_info": {
   "codemirror_mode": {
    "name": "ipython",
    "version": 3
   },
   "file_extension": ".py",
   "mimetype": "text/x-python",
   "name": "python",
   "nbconvert_exporter": "python",
   "pygments_lexer": "ipython3",
   "version": "3.12.3"
  }
 },
 "nbformat": 4,
 "nbformat_minor": 5
}
